{
 "cells": [
  {
   "cell_type": "markdown",
   "id": "d7b21011-7b12-426f-b9da-7b0fd8abf6d7",
   "metadata": {},
   "source": [
    "# 1 Jupyter Lab & Python 入門\n",
    "この画面は Jupyter Lab と呼ばれるものです．\n",
    "\n",
    "もし動作がおかしくなった場合は「File」メニューから「ログアウト」を選択し，再び接続し直してください．\n",
    "\n",
    "## 1.1 コードセルの操作\n",
    "この下にある少し色の違う場所を **コードセル** と呼びます．\n",
    "\n",
    "この**コードセル** にカーソルポインタを合わせて，**shift + Enter** を押してみましょう．"
   ]
  },
  {
   "cell_type": "code",
   "execution_count": null,
   "id": "af2deb5a-38a9-4bca-8cf2-ff5048fe33fe",
   "metadata": {
    "tags": [
     "filename: 1_STAR.ipynb",
     "codenum: 0"
    ]
   },
   "outputs": [],
   "source": [
    "print(\"Hello World\")"
   ]
  },
  {
   "cell_type": "markdown",
   "id": "c2b03a77-f3bd-467b-9072-3ead2e12e580",
   "metadata": {},
   "source": [
    "**コードセル** にカーソルポインタを合わせて **shift + Enter** を押すと，そのコードセル内の命令が実行されます．\n",
    "\n",
    "命令実行中はコードセルの左側にある **[　]** が **[ * ]** となります．実行が終了すると **[　]** の中に数字が表示されます．\n",
    "\n",
    "次のコードセルはどうでしょう？"
   ]
  },
  {
   "cell_type": "code",
   "execution_count": null,
   "id": "469e4b14-8083-4a05-967d-d68c843a01c1",
   "metadata": {
    "tags": [
     "filename: 1_STAR.ipynb",
     "codenum: 1"
    ]
   },
   "outputs": [],
   "source": [
    "print(Hell World)"
   ]
  },
  {
   "cell_type": "markdown",
   "id": "72625684-9f77-47cf-a365-ea2ed4a75a4f",
   "metadata": {},
   "source": [
    "今度はエラーが表示されました．どこが間違っているのでしょうか？\n",
    "\n",
    "Pythonでは文字列を指定する場合， ダブルクォーテーション **\"** またはシングルォーテーション **'** で括る必要があります．\n",
    "\n",
    "上記のコードセルの Hell World を ダブルクォーテーション **\"** で括って **\"Hell World\"** と直してから，**shift + Enter** を押してみましょう．\n",
    "\n",
    "コードセルの中には SPython のプログラムをそのまま書くことができます．\n",
    "\n",
    "## 1.2 ＊を書く\n",
    "それでは，＊ を縦に10個 for文を使って書くプログラムを動かしてみましょう！"
   ]
  },
  {
   "cell_type": "code",
   "execution_count": null,
   "id": "c5243e56-3e01-4e59-bf09-e13c5c91ad15",
   "metadata": {
    "tags": [
     "filename: 1_STAR.ipynb",
     "codenum: 2"
    ]
   },
   "outputs": [],
   "source": [
    "n = 10\n",
    "\n",
    "for i in range(1,n+1) :\n",
    "    print(\"*\")\n"
   ]
  },
  {
   "cell_type": "markdown",
   "id": "ca6b7246-343b-43b2-ad05-358f8b6dd074",
   "metadata": {},
   "source": [
    "今度は ＊ 一個ではなくて，横に10個書いてみます．\n",
    "ただし，10個書く場合も for文を使うことにします．\n",
    "\n",
    "ここで，print文で改行しないようにするには print(\"文字\", end=\"\") のように print文に **, end=\"\"** を追加します．\n",
    "\n",
    "**##** 以降はプログラムの説明を書いたコメントです．"
   ]
  },
  {
   "cell_type": "code",
   "execution_count": null,
   "id": "9c77050e-7e14-446b-aeaa-8180d3cfe916",
   "metadata": {
    "tags": [
     "filename: 1_STAR.ipynb",
     "codenum: 3"
    ]
   },
   "outputs": [],
   "source": [
    "n = 10\n",
    "\n",
    "for i in range(1, n+1) :  ## 行（縦）のループ\n",
    "    for j in range(1, n+1) : ## 列（横）のループ\n",
    "        print(\"*\", end=\"\")      ## ＊を一個書く\n",
    "    \n",
    "    print(\"\")                ## 行（縦）の改行\n"
   ]
  },
  {
   "cell_type": "markdown",
   "id": "089380ff-d01e-4dc9-8187-f1aa530911af",
   "metadata": {},
   "source": [
    "## 1.3 三角形を書く\n",
    "### 1.3.1 三角形\n",
    "今度は以下のような三角形を書いてみましょう．\n",
    "```\n",
    "*\n",
    "**\n",
    "***\n",
    "****\n",
    "*****\n",
    "******\n",
    "*******\n",
    "********\n",
    "*********\n",
    "**********\n",
    "```\n",
    "下のプログラムの **X** の箇所を修正して，この三角形を書いてください．\n"
   ]
  },
  {
   "cell_type": "code",
   "execution_count": null,
   "id": "2bb15efa-9fbb-4965-b9c5-4994e0f19fb2",
   "metadata": {
    "tags": [
     "filename: 1_STAR.ipynb",
     "codenum: 4"
    ]
   },
   "outputs": [],
   "source": [
    "n = 10\n",
    "\n",
    "for i in range(1,n+1) :  ## i 行目\n",
    "    for j in range(1,i+1) : ## X個の＊を横に書く\n",
    "        print(\"*\", end=\"\")\n",
    "        \n",
    "    print(\"\")               ## 行の改行\n"
   ]
  },
  {
   "cell_type": "markdown",
   "id": "91a9807b-1d59-490a-9385-32099489cc30",
   "metadata": {},
   "source": [
    "### 1.3.2 逆三角形\n",
    "それでは，次のような逆三角形はどうでしょう．\n",
    "```\n",
    "**********\n",
    "*********\n",
    "********\n",
    "*******\n",
    "******\n",
    "*****\n",
    "****\n",
    "***\n",
    "**\n",
    "*\n",
    "```\n",
    "\n",
    "1 行目は n 個   (10個)<br>\n",
    "2 行目は n-1 個 (9個)<br>\n",
    "3 行目は n-2 個 (8個)<br>\n",
    "4 行目は n-3 個 (7個)<br>\n",
    "書けば良いことが分かります．それでは i 行目は何個書けば良いのでしょうか？\n",
    "\n",
    "答えの式を，下のプログラムの **X** の箇所に書いてください．\n"
   ]
  },
  {
   "cell_type": "code",
   "execution_count": null,
   "id": "84341779-940d-4e71-b414-25f1b46bc447",
   "metadata": {
    "tags": [
     "filename: 1_STAR.ipynb",
     "codenum: 5"
    ]
   },
   "outputs": [],
   "source": [
    "n = 10\n",
    "\n",
    "for i in range(1, n+1) : ## i 行目\n",
    "    for j in range(1, n-i+1+1) : ## X個の＊を横に書く\n",
    "        print(\"*\", end=\"\")\n",
    "    \n",
    "    print(\"\")\n",
    "\n",
    "   "
   ]
  },
  {
   "cell_type": "markdown",
   "id": "da31310e-06b4-47f9-b84a-18940b520875",
   "metadata": {},
   "source": [
    "### 1.3.3 逆三角形 その２\n",
    "それでは，次のような逆三角形はどうでしょう．\n",
    "```\n",
    "********** \n",
    " *********\n",
    "  ********\n",
    "   *******\n",
    "    ******\n",
    "     *****\n",
    "      ****\n",
    "       ***\n",
    "        **\n",
    "         *\n",
    "```\n",
    "答えの式（変数）を下のプログラムの **X**, **Y** の箇所に書いてください．"
   ]
  },
  {
   "cell_type": "code",
   "execution_count": null,
   "id": "7f9dba9d-46bf-45c5-b312-b246dd81a03c",
   "metadata": {
    "tags": [
     "filename: 1_STAR.ipynb",
     "codenum: 6"
    ]
   },
   "outputs": [],
   "source": [
    "n = 10\n",
    "\n",
    "for i in range(1, n+1) :  ## i 行目\n",
    "    for j in range(1, i) :       ## X個の空白を横に書く\n",
    "        print(\" \", end=\"\")\n",
    "        \n",
    "    for j in range(1, n-i+1+1) : ## Y個の＊を横に書く\n",
    "        print(\"*\", end=\"\")\n",
    "        \n",
    "    print(\"\")\n"
   ]
  }
 ],
 "metadata": {
  "kernelspec": {
   "display_name": "Python 3 (ipykernel)",
   "language": "python",
   "name": "python3"
  },
  "language_info": {
   "codemirror_mode": {
    "name": "ipython",
    "version": 3
   },
   "file_extension": ".py",
   "mimetype": "text/x-python",
   "name": "python",
   "nbconvert_exporter": "python",
   "pygments_lexer": "ipython3",
   "version": "3.9.12"
  }
 },
 "nbformat": 4,
 "nbformat_minor": 5
}
