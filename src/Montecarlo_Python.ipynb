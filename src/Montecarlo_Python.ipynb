{
 "cells": [
  {
   "cell_type": "markdown",
   "id": "973daae7-097f-4789-b688-69f9bfe86ab5",
   "metadata": {},
   "source": [
    "# 2 モンテカルロ法で円周率をもとめよう\n",
    "ここではモンテカルロ法を使って円周率を求めます．\n",
    "\n",
    "# 2.1 グラフィックの準備\n",
    "グラフィックを使用するために，下記のコードセルを実行を実行（shift + Enter）してください．ここでは Python でグラフィック機能を使用できるようにします．\n",
    "\n",
    "ただし，下記のコードセルを実行しても何も表示されません．"
   ]
  },
  {
   "cell_type": "code",
   "execution_count": null,
   "id": "be114c78-c0cf-42f8-b593-d0e19dfeaf61",
   "metadata": {},
   "outputs": [],
   "source": [
    "import matplotlib.pyplot as plt ## グラフィック描画用オブジェクト\n",
    "import numpy as np\n",
    "import random\n",
    "import math"
   ]
  },
  {
   "cell_type": "markdown",
   "id": "fa108379-ab5c-48ed-bd24-e5def854eda9",
   "metadata": {},
   "source": [
    "# 2.2 モンテカルロ法\n",
    "# 2.2.1 座標の表示\n",
    "モンテカルロ法とは，乱数を使用した計算方法です．円周率を求めるために，先ず 1/4 円を表示します．\n",
    "\n",
    "下記コードセルを実行すると，1/4 円が表示されます．\n",
    "\n",
    "表示されない場合は，一番最初のコードセルを実行し直してください．それでも表示されない場合は，一回ログアウトしてから再接続してみてください．"
   ]
  },
  {
   "cell_type": "code",
   "execution_count": null,
   "id": "ad6ccb32-70f9-4fb6-a0c4-c07354349e48",
   "metadata": {},
   "outputs": [],
   "source": [
    "################################################################\n",
    "## 座標の表示\n",
    "plt.figure(figsize=(10,10))   # グラフのサイズ\n",
    "plt.xlabel(\"X\")               # X軸ラベル\n",
    "plt.ylabel(\"Y\")               # Y軸ラベル\n",
    "plt.title(\"Monte Carlo\")      # タイトル\n",
    "\n",
    "times  = np.arange(0, 1.0, 0.0001)  # X軸の刻み\n",
    "circle = np.sqrt(1.0-times*times)   # 1/4 円の方程式  y = √（1-x*x）\n",
    "plt.plot(times, circle, \"red\")      # 1/4 円を描く\n",
    "\n",
    "plt.show()  # グラフの表示\n",
    "plt.close() # グラフの使用終了"
   ]
  },
  {
   "cell_type": "markdown",
   "id": "f880f36a-cb42-427a-a2c2-7c22fa37a03c",
   "metadata": {},
   "source": [
    "### 2.2.2 円周率の求め方と実行\n",
    "- モンテカルロ法では x, y 座標について，それぞれ 0 ~ 1 までの乱数を発生させます．\n",
    "- 次に乱数によってできた x, y 座標点を上記の1/4 円の図に書き込みます．\n",
    "- この時，発生させた全ての点の数と円内に入った点の数は，それぞれの面積に比例するはずです（本当の乱数が使用された場合）\n",
    "- つまり，**（円内に入った点の数）** **/** **（発生させた全ての点の数）** **＝** **（1/4円の面積）** **/** **1** \n",
    "    - **π** ＝ **（円内に入った点の数）/（発生させた全ての点の数）＊４**\n",
    "    - 0 ~ 1 の乱数の発生は **Double.random(in: 0.0...1.0)** で行います．\n",
    "    \n",
    "それでは早速やってみましょう．下記のプログラムは乱数（座標点）を 10,000組（個）発生させています．\n",
    "\n",
    "プログラムの最期から２行目の 円周率 **pi** を計算する場所で，**XXX** と **YYY** の部分を適当な変数名で書き換えて，実行してみてください．"
   ]
  },
  {
   "cell_type": "code",
   "execution_count": null,
   "id": "cfbc7d40-c654-48c2-8c9a-a5afe1a86bbd",
   "metadata": {},
   "outputs": [],
   "source": [
    "################################################################\n",
    "## 座標の定義\n",
    "plt.figure(figsize=(10, 10))\n",
    "plt.xlabel(\"X\")\n",
    "plt.ylabel(\"Y\")\n",
    "plt.title(\"Monte Carlo\")\n",
    "\n",
    "times  = np.arange(0, 1.0, 0.0001)\n",
    "circle = np.sqrt(1.0 - times*times)\n",
    "plt.plot(times, circle, \"red\")\n",
    "\n",
    "################################################################\n",
    "## 乱数生成と円内に入ったかの判定\n",
    "total = 100000     ## 全ての点の数\n",
    "xx: float = []    ## X座標値の保管場所\n",
    "yy: float = []    ## Y座標値の保管場所\n",
    "\n",
    "count = 0         ## 円内に入った点を数えるための変数\n",
    "for _ in range(total):          ## total回繰り返す   \n",
    "    x = random.uniform(0.0, 1.0)  ## X座標\n",
    "    y = random.uniform(0.0, 1.0)  ## Y座標\n",
    "    if (x*x + y*y<=1.0):          ## 円内か？\n",
    "        count += 1                  ## 円内の場合は count を 1 増やす\n",
    "        xx.append(x)                ## 描画するために X座標を保存\n",
    "        yy.append(y)                ## 描画するために Y座標を保存\n",
    "\n",
    "pi = count/total*4.0    ## 円周率の計算\n",
    "print(\"PI =\", pi)       ## 円周率の表示\n",
    "\n",
    "################################################################\n",
    "## グラフの表示\n",
    "plt.scatter(xx, yy, 1)   ## 円内に入った点のX,Y座標をグラフに設定\n",
    "plt.show()               ## グラフの表示\n",
    "plt.close()              ## グラフの使用終了"
   ]
  },
  {
   "cell_type": "markdown",
   "id": "84f9c002-1331-4d4e-88db-e7d4b8e5b840",
   "metadata": {},
   "source": [
    "### 2.2.3 処理の関数化\n",
    "結果は実際の円周率（3.14159265）とは少し違うようです．点の数が 10,000 個では少ないのかも知れません．\n",
    "\n",
    "円周率の計算を簡単に実行できるようにするために，上記のプログラムを関数化します．関数内ではグラフィックの描画は行いませんので，グラフィック機能はコメントアウトします．また生成する点の数は関数の引数として外部から指定できるようにします．\n",
    "\n",
    "上記のプログラムと同じように 円周率 pi を計算する場所で，**XXX** と **YYY** の部分を適当な変数名で書き換えて実行してください．\n",
    "\n",
    "なおこのプログラムも関数を定義しているだけなので，コードセルを実行しても何も表示されません．（エラーの場合はエラーメッセージがでます）"
   ]
  },
  {
   "cell_type": "code",
   "execution_count": null,
   "id": "1b1d6aec-a5cf-4ca8-a91f-08fe8daa1846",
   "metadata": {},
   "outputs": [],
   "source": [
    "##\n",
    "def montecarlo(total):\n",
    "    #total = 10000     ## 全ての点の数\n",
    "    #xx: float = []    ## X座標値の保管場所\n",
    "    #yy: float = []    ## Y座標値の保管場所\n",
    "\n",
    "    count = 0          ## 円内に入った点を数えるための変数\n",
    "    for _ in range(total):          ## total回繰り返す   \n",
    "        x = random.uniform(0.0, 1.0)  ## X座標\n",
    "        y = random.uniform(0.0, 1.0)  ## Y座標\n",
    "        if (x*x + y*y<=1.00):         ## 円内か？\n",
    "            count += 1                  ## 円内の場合は count を 1 増やす\n",
    "            #xx.append(x)                ## 描画するために X座標を保存\n",
    "            #yy.append(y)                ## 描画するために Y座標を保存\n",
    "\n",
    "    pi = count/total*4.0    ## 円周率の計算\n",
    "    #print(\"PI =\", pi)       ## 円周率の表示    \n",
    "    \n",
    "    return pi"
   ]
  },
  {
   "cell_type": "markdown",
   "id": "7b01c4c6-05a2-4519-be9e-f0e08f27bc62",
   "metadata": {},
   "source": [
    "### 2.2.4 関数の確認\n",
    "それでは関数 **montecarlo( )** が正しく定義されたかどうか，以下のコードセルを実行してみましょう．\n",
    "\n",
    "それらしい数値が表示されましたか？"
   ]
  },
  {
   "cell_type": "code",
   "execution_count": null,
   "id": "e7f5200c-9976-4912-a5f6-52d92e33e2eb",
   "metadata": {},
   "outputs": [],
   "source": [
    "print(montecarlo(100000))"
   ]
  },
  {
   "cell_type": "markdown",
   "id": "f2e36943-c6e7-4ea9-9113-60d7c3b37983",
   "metadata": {},
   "source": [
    "### 2.2.5 乱数の発生数（全点の数）の違いによる結果の違い\n",
    "乱数の発生数（全点の数）の違いによる結果の違いを調べてみましょう.\n",
    "\n",
    "下記プログラムは，500 ~ 10000点 まで 500点おきの 乱数点（x, y の組）に対する円周率の計算結果をグラフにするためのプログラムです．\n",
    "\n",
    "実行してみましょう．"
   ]
  },
  {
   "cell_type": "code",
   "execution_count": null,
   "id": "1a055ae1-de89-49a5-95db-be9baccbf21d",
   "metadata": {},
   "outputs": [],
   "source": [
    "################################################################\n",
    "## 座標の定義\n",
    "plt.figure(figsize=(20, 5))\n",
    "plt.xlabel(\"Count\")\n",
    "plt.ylabel(\"PI\")\n",
    "plt.title(\"Monte Carlo\")\n",
    "\n",
    "################################################################\n",
    "## （全点の数の違いによる）円周率の計算\n",
    "step = 500        ## 点の数の増加幅\n",
    "maxp = 100000     ## 全ての点の数\n",
    "cnt = np.arange(step, maxp+step, step) ## X軸の刻み\n",
    "ppi: float = []   ## 計算結果（円周率）の保存場所\n",
    "ect: float = []   ## 正確な π をグラフ表示するための変数\n",
    "\n",
    "for n in cnt:     ## setp ~ maxlp まで step 刻みで計算する\n",
    "    pi = montecarlo(n)   ## 関数 montecarlo(n) よる円周率の計算\n",
    "    ppi.append(pi)       ## 計算結果を格納\n",
    "    ect.append(math.pi)  ## 正確な π   \n",
    "\n",
    "print(\"PI =\", pi)\n",
    "    \n",
    "################################################################\n",
    "## グラフの表示\n",
    "plt.plot(cnt, ppi)  ## 計算結果をグラフに設定\n",
    "plt.plot(cnt, ect)  ## 正確な π をグラフに設定\n",
    "plt.show()          ## グラフの表示\n",
    "plt.close()         ## グラフの使用終了"
   ]
  },
  {
   "cell_type": "markdown",
   "id": "4ace9537-656e-4706-90b7-ac34fc743495",
   "metadata": {},
   "source": [
    "### 2.2.6 高速に計算する\n",
    "上記のプログラムは，ある点の数に対して，円周率をその都度計算しています．\n",
    "例えば，montecarlo(5000) を計算した後，montecarlo(5500) をもう一回初めから計算しています．\n",
    "そのため実行速度は遅く，var maxlp = 100000 (10万) 位に設定するとかなり表示が遅くなります（サーバも結構忙しくなる）．\n",
    "\n",
    "高速に計算するために，前の結果を利用して新しい結果が出せないだろうか？　つまり 5500 点を計算する場合は，500 点については新たに計算し，5000 点についてはこれまでの計算結果を利用できないだろうか？\n",
    "\n",
    "円内に入った点の数と円周率は単純に比例するから，円周率を単純に平均しても良いはずです．つまり各回の結果は以下のようになります．\n",
    "```\n",
    "- 1回目の結果 --- pi(1) = m(1)\n",
    "- 2回目の結果 --- pi(2) = (m(1) + m(2)) / 2               = (pi(1)   + m(2)) / 2\n",
    "- 3回目の結果 --- pi(3) = (m(1) + m(2) + m(3)) / 3        = (pi(2)*2 + m(3)) / 3\n",
    "- 4回目の結果 --- pi(4) = (m(1) + m(2) + m(3) + m(4)) / 4 = (pi(3)*3 + m(4)) / 4\n",
    "- ......\n",
    "- i回目の結果 --- pi(i) = (m(1) + m(2) + .... + m(i)) / i = (pi(i-1)*(i-1) + m(i)) / i\n",
    "```\n",
    "* ただし，pi(i) は それ以前の結果を考慮した i回目の円周率の計算結果．m(i) は i回目の新に計算した montecarlo( ) の値\n",
    "\n",
    "以下のプログラムについて，**XXX** と **YYY** の部分を適当な変数名で書き換えて実行してみよう．結果はどうなりますか？\n"
   ]
  },
  {
   "cell_type": "code",
   "execution_count": null,
   "id": "0cb5bb3d-c5c8-4efe-8dbc-8956ea6a048a",
   "metadata": {},
   "outputs": [],
   "source": [
    "################################################################\n",
    "## 座標の定義\n",
    "plt.figure(figsize=(20, 5))\n",
    "plt.xlabel(\"Count\")\n",
    "plt.ylabel(\"PI\")\n",
    "plt.title(\"Monte Carlo\")\n",
    "\n",
    "################################################################\n",
    "## （全点の数の違いによる）円周率の計算\n",
    "step = 500        ## 点の数の増加幅\n",
    "maxp = 1000000    ## 全ての点の数\n",
    "cnt = np.arange(step, maxp+step, step) ## X軸の刻み\n",
    "ppi: float = []   ## 計算結果（円周率）の保存場所\n",
    "ect: float = []   ## 正確な π をグラフ表示するための変数\n",
    "\n",
    "prv_pi = 0.0;     ## 1回前の計算結果とする\n",
    "i = 1;            ## 計算の回数\n",
    "for n in cnt:     ## setp ~ maxlp まで step 刻みで計算する\n",
    "    ##pi = montecarlo(n)\n",
    "    ## 時間が掛かりすぎるので，改造する\n",
    "    monte = montecarlo(step)        ## その回での円周率の計算\n",
    "    pi = (prv_pi*(i-1) + monte)/i   ## これまでの計算を考慮した場合の円周率の計算\n",
    "    prv_pi = pi                     ## 今回の計算結果を1回前の計算結果とする\n",
    "    i += 1                          ## 計算の回数を 1回増やす\n",
    "    #\n",
    "    ppi.append(pi)         ## 計算結果を格納\n",
    "    ect.append(math.pi)    ## 正確な π       \n",
    "\n",
    "print(\"PI =\", pi)\n",
    "\n",
    "################################################################\n",
    "## グラフの表示\n",
    "plt.plot(cnt, ppi)  ## 計算結果をグラフに設定\n",
    "plt.plot(cnt, ect)  ## 正確な π をグラフに設定\n",
    "plt.show()          ## グラフの表示\n",
    "plt.close()         ## グラフの使用終了"
   ]
  },
  {
   "cell_type": "markdown",
   "id": "fda457fe-939d-4e92-a247-1e53e96032f9",
   "metadata": {},
   "source": [
    "### 2.2.7 結果について\n",
    "回数を多くしても，正確な円周率に近づいたり離れたりしている．\n",
    "\n",
    "これは何故だろう？"
   ]
  }
 ],
 "metadata": {
  "kernelspec": {
   "display_name": "Python 3 (ipykernel)",
   "language": "python",
   "name": "python3"
  },
  "language_info": {
   "codemirror_mode": {
    "name": "ipython",
    "version": 3
   },
   "file_extension": ".py",
   "mimetype": "text/x-python",
   "name": "python",
   "nbconvert_exporter": "python",
   "pygments_lexer": "ipython3",
   "version": "3.10.4"
  }
 },
 "nbformat": 4,
 "nbformat_minor": 5
}
